{
 "cells": [
  {
   "cell_type": "code",
   "execution_count": 1,
   "metadata": {},
   "outputs": [],
   "source": [
    "# Imports\n",
    "%matplotlib inline\n",
    "\n",
    "import sys\n",
    "import numpy as np\n",
    "import scipy\n",
    "import scipy.stats as stats\n",
    "from scipy.stats import binom\n",
    "import matplotlib\n",
    "import matplotlib.pyplot as plt\n",
    "import seaborn as sns\n",
    "import math\n",
    "\n",
    "sns.set_style('darkgrid')\n",
    "np.random.seed(4)"
   ]
  },
  {
   "cell_type": "code",
   "execution_count": 194,
   "metadata": {},
   "outputs": [],
   "source": [
    "class DataAnalysis:\n",
    "    def __init__(self, T, r, distribution, time_variation):\n",
    "        self.T = T\n",
    "        self.r = r\n",
    "        self.real_rewards = np.zeros(self.T)\n",
    "        self.rewards = np.zeros(self.T)\n",
    "        self.running_avg = np.zeros(self.T)\n",
    "        self.distribution = distribution\n",
    "        self.time_variation = time_variation\n",
    "    \n",
    "    def generate_one_sample(self,t):\n",
    "        if (self.distribution == 'Binomial'):\n",
    "            return np.random.binomial(1,self.real_rewards[t])\n",
    "        if (self.distribution == 'Gaussian'):\n",
    "            return np.random.normal(self.real_rewards[t], 0.05, 1)\n",
    "        \n",
    "    def change_reward(self):\n",
    "        for t in range(self.T):\n",
    "            if(self.time_variation == 'step'):\n",
    "                #if((t+1)%self.p == 0):\n",
    "                    #self.r = np.random.randint(1,100)/100\n",
    "                self.real_rewards[t] = self.r[(math.floor(t/(self.T/len(self.r))))]\n",
    "            elif(self.time_variation == 'pos_log'):\n",
    "                self.real_rewards[t] = self.r[(math.floor(t/(self.T/len(self.r))))] + (np.log(t+1))/(2*np.log(self.T))\n",
    "            elif(self.time_variation == 'neg_log'):\n",
    "                self.real_rewards[t] = self.r[(math.floor(t/(self.T/len(self.r))))] - (np.log(t+1))/(2*np.log(self.T))\n",
    "    \n",
    "    def generate_samples(self):\n",
    "        self.change_reward()\n",
    "        for t in range(self.T):\n",
    "            outcome = self.generate_one_sample(t)\n",
    "            self.rewards[t] = outcome\n",
    "            self.running_avg[t] = np.sum(self.rewards) / (t+1)\n",
    "        \n",
    "    \n",
    "    def plot_average(self):\n",
    "        if(self.distribution=='Binomial'):\n",
    "            plt.plot(self.real_rewards, 'r', label='Real Positive Reward Probability')\n",
    "        if(self.distribution=='Gaussian'):\n",
    "            plt.plot(self.real_rewards, 'r', label='Mean of the Gaussian')\n",
    "        plt.plot(self.running_avg, 'b', label='Estimated Rewards Distribution')\n",
    "        plt.title(self.distribution)\n",
    "        plt.ylim([0, 1])\n",
    "        plt.ylabel('Rewards')\n",
    "        plt.xlabel('iterations')\n",
    "        plt.legend()\n",
    "        plt.show()        "
   ]
  },
  {
   "cell_type": "code",
   "execution_count": 199,
   "metadata": {},
   "outputs": [
    {
     "data": {
      "image/png": "[encoded data removed]",
      "text/plain": [
       "<Figure size 432x288 with 1 Axes>"
      ]
     },
     "metadata": {
      "needs_background": "light"
     },
     "output_type": "display_data"
    }
   ],
   "source": [
    "da = DataAnalysis(1000, [0.5], 'Binomial', 'pos_log')\n",
    "da.generate_samples()\n",
    "#[0.2, 0.25, 0.28, 0.3, 0.5, 0.31, 0.2, 0.36, 0.3, 0.4, 0.5, 0.55, 0.7, 0.69, 0.1, 0.7, 0.4, 0.5, 0.48, 0.47]\n",
    "da.plot_average()"
   ]
  }
 ],
 "metadata": {
  "kernelspec": {
   "display_name": "Python 3",
   "language": "python",
   "name": "python3"
  },
  "language_info": {
   "codemirror_mode": {
    "name": "ipython",
    "version": 3
   },
   "file_extension": ".py",
   "mimetype": "text/x-python",
   "name": "python",
   "nbconvert_exporter": "python",
   "pygments_lexer": "ipython3",
   "version": "3.7.3"
  }
 },
 "nbformat": 4,
 "nbformat_minor": 2
}
